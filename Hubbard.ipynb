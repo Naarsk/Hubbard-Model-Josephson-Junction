{
 "cells": [
  {
   "cell_type": "code",
   "execution_count": 19,
   "metadata": {},
   "outputs": [
    {
     "name": "stdout",
     "output_type": "stream",
     "text": [
      "V0 = 1  T = 0\n"
     ]
    },
    {
     "name": "stderr",
     "output_type": "stream",
     "text": [
      "<ipython-input-19-579d4b05dc34>:72: ComplexWarning: Casting complex values to real discards the imaginary part\n",
      "  n_n[i]    = usum(U[:,i],np.conj(U[:,i]),N)\n",
      "<ipython-input-19-579d4b05dc34>:73: ComplexWarning: Casting complex values to real discards the imaginary part\n",
      "  n_n[i+L]  = 1- usum(U[:,i+L],np.conj(U[:,i+L]),N)\n"
     ]
    },
    {
     "name": "stdout",
     "output_type": "stream",
     "text": [
      "method successfully converged after 716 iterations\n",
      "error: 0.0009965251867342768\n"
     ]
    }
   ],
   "source": [
    "import numpy as np\n",
    "import matplotlib.pyplot as plt          \n",
    "#from scipy.linalg import lapack as lp\n",
    "from scipy.linalg import eigh        \n",
    "\n",
    "def usum(v1,v2,n):\n",
    "    if(len(v1)<n or len(v2)<n):\n",
    "        print('error usum: index out of range')\n",
    "        return 0\n",
    "    else:\n",
    "        s=0\n",
    "        for i in range(n):\n",
    "            s=s+v1[i]*v2[i]\n",
    "        return s\n",
    "        \n",
    "        \n",
    "L=33                                           #numero di siti totali\n",
    "dn=0                                           #nup-ndown\n",
    "N=L + dn                                       #numero di orbitali d\n",
    "A=L                                            #numero di siti con interazione V>0\n",
    "V0=1\n",
    "V=[0]*L\n",
    "T=0\n",
    "dt=10**(-2)                                    #step \n",
    "ITERMAX=5*10**4                                #numero massimo di iterazioni\n",
    "ERRORMAX=10**(-3)                              #massimo errore ammesso sui parametri meanfield\n",
    "verror=[]\n",
    "\n",
    "\n",
    "for i in range(L):\n",
    "    if(i<(L-A)/2 or i>=(L+A)/2):\n",
    "        V[i]=-2\n",
    "    else:\n",
    "        V[i]=V0\n",
    "\n",
    "print(\"V0 =\",V0,\" T =\",T)\n",
    "\n",
    "n = np.random.rand(2*L)\n",
    "delta = np.random.rand(L)+np.random.rand(L)*1j\n",
    "\n",
    "n_n=np.zeros(2*L)\n",
    "n_delta=np.zeros(L)+np.zeros(L)*1j\n",
    "\n",
    "E=np.zeros((2*L,2*L),dtype=np.complex_)\n",
    "\n",
    "\n",
    "for niter in range(ITERMAX):\n",
    "\n",
    "    for i in range(L):\n",
    "        E[i,i]=V[i]*n[i+L]                        #diagonale parte sup\n",
    "        E[i+L,i+L]=-V[i]*n[i]                       #diagonale parte inf\n",
    "        E[i,i+L]=V[i]*np.conj(delta[i])           #blocchi off-diagonali\n",
    "        E[i+L,i]=V[i]*delta[i]\n",
    "\n",
    "    for i in range(L-1):                           #incroci consecutivi\n",
    "        E[i,i+1]=-T    \n",
    "        E[i+1,i]=-T    \n",
    "        E[i+L,i+L+1]=T                        \n",
    "        E[i+L+1,i+L]=T  \n",
    "\n",
    "    E[0,L-1]=-T\n",
    "    E[L-1,0]=-T\n",
    "    E[2*L-1,L]=T\n",
    "    E[L,2*L-1]=T\n",
    "\n",
    "    Eval,Evec = eigh(E)\n",
    "\n",
    "    U=np.conj(np.transpose(Evec))\n",
    "\n",
    "    for i in range(L):\n",
    "        n_delta[i]= usum(U[:,i+L],np.conj(U[:,i]),N)\n",
    "        n_n[i]    = usum(U[:,i],np.conj(U[:,i]),N)\n",
    "        n_n[i+L]  = 1- usum(U[:,i+L],np.conj(U[:,i+L]),N)\n",
    "\n",
    "    #VECTOR OF ERRORS\n",
    "    num=sum(np.abs(n_delta-delta))+sum(np.abs(n_n-n))\n",
    "    den=sum(np.abs(n_delta))+sum(np.abs(n_n))\n",
    "    verror.append(num/den)\n",
    "\n",
    "    if(verror[niter]<ERRORMAX):\n",
    "        n=n_n\n",
    "        delta=n_delta\n",
    "        print(\"method successfully converged after\", niter, \"iterations\")\n",
    "        print(\"error:\",verror[niter])\n",
    "        break\n",
    "\n",
    "    else:\n",
    "        delta=delta*(1-dt)+n_delta*dt\n",
    "        n=n*(1-dt)+n_n*dt  \n",
    "\n",
    "    if(niter==ITERMAX-1):\n",
    "        print(\"number of iterations exceeded\", ITERMAX)\n",
    "        print(\"min error achieved:\",min(verror))\n",
    "        print(\"last error value:\",verror[niter])"
   ]
  },
  {
   "cell_type": "code",
   "execution_count": 20,
   "metadata": {},
   "outputs": [
    {
     "data": {
      "image/png": "[encoded data removed]",
      "text/plain": [
       "<Figure size 576x288 with 1 Axes>"
      ]
     },
     "metadata": {
      "needs_background": "light"
     },
     "output_type": "display_data"
    }
   ],
   "source": [
    "#PLOT N\n",
    "plt.rcParams[\"figure.figsize\"] = [8, 4]\n",
    "plt.rcParams[\"figure.autolayout\"] = True\n",
    "plt.xticks(np.arange(0, L, step=10))  \n",
    "\n",
    "x = np.arange(L)\n",
    "n_up=np.round(n[:L],2)\n",
    "n_down=np.round(n[L:],2)\n",
    "\n",
    "plt.title(\"red=n_up, blue=n_down\")\n",
    "plt.plot(x, n_down, 'b')\n",
    "plt.plot(x, n_up, \"r--\")\n",
    "\n",
    "plt.show()"
   ]
  },
  {
   "cell_type": "code",
   "execution_count": 21,
   "metadata": {},
   "outputs": [
    {
     "data": {
      "image/png": "[encoded data removed]",
      "text/plain": [
       "<Figure size 576x288 with 1 Axes>"
      ]
     },
     "metadata": {
      "needs_background": "light"
     },
     "output_type": "display_data"
    }
   ],
   "source": [
    "#PLOT DELTA\n",
    "plt.rcParams[\"figure.figsize\"] = [8, 4]\n",
    "plt.rcParams[\"figure.autolayout\"] = True\n",
    "plt.xticks(np.arange(0, L, step=10))  \n",
    "\n",
    "x = np.arange(L)\n",
    "\n",
    "plt.title(\"delta, red=real, blue=imag\")\n",
    "plt.plot(x, np.imag(np.round(delta,2)), color=\"blue\")\n",
    "plt.plot(x, np.real(np.round(delta,2)), \"r--\")\n",
    "\n",
    "\n",
    "plt.show()"
   ]
  },
  {
   "cell_type": "code",
   "execution_count": 22,
   "metadata": {},
   "outputs": [
    {
     "data": {
      "image/png": "[encoded data removed]",
      "text/plain": [
       "<Figure size 576x288 with 1 Axes>"
      ]
     },
     "metadata": {
      "needs_background": "light"
     },
     "output_type": "display_data"
    }
   ],
   "source": [
    "#PLOT POTENZIALE\n",
    "plt.rcParams[\"figure.figsize\"] = [8, 4]\n",
    "plt.rcParams[\"figure.autolayout\"] = True\n",
    "plt.xticks(np.arange(0, L+2, step=2))  \n",
    "\n",
    "x = np.arange(L)\n",
    "\n",
    "plt.title(\"V\")\n",
    "plt.plot(x, V, color=\"red\")\n",
    "\n",
    "plt.show()"
   ]
  },
  {
   "cell_type": "code",
   "execution_count": 23,
   "metadata": {},
   "outputs": [],
   "source": [
    "ener1=sum(Eval[:N])#+usum(V,n[:L],L)\n",
    "ener2=sum(V)#+usum(V,n[:L],L)"
   ]
  },
  {
   "cell_type": "code",
   "execution_count": 24,
   "metadata": {},
   "outputs": [
    {
     "name": "stdout",
     "output_type": "stream",
     "text": [
      "-16.489862866396308\n",
      "33\n"
     ]
    }
   ],
   "source": [
    "print(ener1)\n",
    "print(ener2)"
   ]
  },
  {
   "cell_type": "code",
   "execution_count": null,
   "metadata": {},
   "outputs": [],
   "source": []
  }
 ],
 "metadata": {
  "kernelspec": {
   "display_name": "Python 3",
   "language": "python",
   "name": "python3"
  },
  "language_info": {
   "codemirror_mode": {
    "name": "ipython",
    "version": 3
   },
   "file_extension": ".py",
   "mimetype": "text/x-python",
   "name": "python",
   "nbconvert_exporter": "python",
   "pygments_lexer": "ipython3",
   "version": "3.8.5"
  }
 },
 "nbformat": 4,
 "nbformat_minor": 4
}
